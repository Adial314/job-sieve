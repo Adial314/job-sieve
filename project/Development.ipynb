{
 "cells": [
  {
   "cell_type": "markdown",
   "metadata": {},
   "source": [
    "# Job Sieve\n",
    "---\n",
    "\n",
    "Development documentation for the screen scraping of multiple job boards for useful statistics, filtered high-value prospects, and correlative analytics.\n",
    "\n",
    "---\n",
    "\n",
    "## <a name=\"toc\"></a> Table of Contents\n",
    "1. [Process Job Board](#process_job_board)\n",
    "  1. [Job Listings](#job_listings)\n",
    "  2. [Job Posts](#job_posts)\n",
    "2. [Analytics](#analytics)\n",
    "  1. [Keyword Frequencies](#keyword_frequencies)\n",
    "  2. [Resume Correlations](#resume_correlations)\n",
    "  3. [Filtering Prospects](#filtering_prospects)\n",
    "\n"
   ]
  },
  {
   "cell_type": "code",
   "execution_count": 1,
   "metadata": {},
   "outputs": [
    {
     "name": "stderr",
     "output_type": "stream",
     "text": [
      "/home/alice/anaconda3/envs/ml/lib/python3.8/site-packages/fuzzywuzzy/fuzz.py:11: UserWarning: Using slow pure-python SequenceMatcher. Install python-Levenshtein to remove this warning\n",
      "  warnings.warn('Using slow pure-python SequenceMatcher. Install python-Levenshtein to remove this warning')\n"
     ]
    }
   ],
   "source": [
    "# -------------------- LOAD DEPENDENCIES -------------------- #\n",
    "\n",
    "# Environment hard reset\n",
    "%reset -f\n",
    "\n",
    "# Standard math and data libraries\n",
    "import numpy as np\n",
    "import pandas as pd\n",
    "\n",
    "# Plotting libraries\n",
    "import matplotlib.pyplot as plt\n",
    "%matplotlib inline\n",
    "\n",
    "# Libraries for scraping\n",
    "import requests\n",
    "import urllib.request\n",
    "import time\n",
    "from bs4 import BeautifulSoup\n",
    "from urllib.request import Request, urlopen\n",
    "import lxml.html as lh\n",
    "import ssl\n",
    "\n",
    "# Date time for date operations\n",
    "import datetime\n",
    "\n",
    "# Levenshtein fuzzy comparisons\n",
    "from fuzzywuzzy import fuzz \n",
    "from fuzzywuzzy import process\n",
    "\n",
    "# Import string cleaning functions\n",
    "import re\n",
    "\n",
    "# Flask support\n",
    "from flask import request, jsonify\n",
    "\n",
    "# Configure paths\n",
    "from pathlib import Path\n",
    "# data_path = Path('Datasets')\n"
   ]
  },
  {
   "cell_type": "markdown",
   "metadata": {},
   "source": [
    "## <a name=\"process_job_board\"></a> [Process Job Board](#toc)\n",
    "\n",
    "Given a job board, input the desired job characteristics, form them into a query, and aggregate all job postings returned to us from that query.\n",
    "\n",
    "1. [Job Listings](#job_listings)\n",
    "2. [Job Posts](#job_posts)\n",
    "\n"
   ]
  },
  {
   "cell_type": "markdown",
   "metadata": {},
   "source": [
    "### <a name=\"job_listings\"></a> [Job Listings](#toc)\n",
    "\n",
    "When using an online job board, any query entered into the search bar returns several pages of job listings. Each listing on those pages is referred to as a card. The card is an HTML object which stores all of the relevant details that identify that card ti the user. These details include the job title, a link to the job posting itself, the company, the location, and a brief summary of the job's key features. The role of this program is to construct the query for the user, to execute the query against the job board, and to process (parse) those job cards into a Python object that can be expanded upon.\n",
    "\n",
    "**Future development:** <br>\n",
    "- Iterate through each page of job postings returned from the query and add them to our cards.\n",
    "- The original results tell us the most relevant job listings (ordered typically by decending relevance) as well as the number of pages returned by the query. Using asynchronous techniques, these pages can be called simultaneously and processed by the order in which the results are returned. This technique greatly reduced the overhead expense of calling each query and waiting for the server to reply. The program can process the cards on its own time as the cards return.\n",
    "\n"
   ]
  },
  {
   "cell_type": "code",
   "execution_count": 2,
   "metadata": {},
   "outputs": [
    {
     "data": {
      "text/plain": [
       "{'title': 'IT Support Associate II',\n",
       " 'link': 'https://www.indeed.com/rc/clk?jk=e0c269f2fc3ca546&fccid=fe2d21eef233e94a&vjs=3',\n",
       " 'company': 'Amazon.com Services LLC',\n",
       " 'location': 'Albuquerque, NM',\n",
       " 'summary': ['1+ year experience in maintaining laser printers.',\n",
       "  '1+ year experience with Cisco/networking and either Linux and/or Microsoft.',\n",
       "  'High School or equivalent diploma.']}"
      ]
     },
     "execution_count": 2,
     "metadata": {},
     "output_type": "execute_result"
    }
   ],
   "source": [
    "# -------------------- PARSE JOB CARDS -------------------- #\n",
    "\n",
    "keywords = [\"CCNA\"]\n",
    "location =  \"Albuquerque\"\n",
    "\n",
    "from custom.indeed.form_query import form_query\n",
    "base_query = form_query(keywords, location)\n",
    "\n",
    "# ---------- #\n",
    "\n",
    "from custom.indeed.call_query import call_query\n",
    "from custom.indeed.extract_cards import extract_cards\n",
    "from custom.indeed.parse_cards import parse_cards\n",
    "\n",
    "page = call_query(base_query)\n",
    "cards = extract_cards(page)\n",
    "parsed_cards = parse_cards(cards)\n",
    "\n",
    "parsed_cards[1]\n"
   ]
  },
  {
   "cell_type": "markdown",
   "metadata": {},
   "source": [
    "### <a name=\"job_posts\"></a> [Job Posts](#toc)\n",
    "\n",
    "With the cards processed, the next step is to iterate over the cards and parse each resulting job post. This information will be compiled for future analysis to determine if the job posting is worth the time it takes to formally apply for the job. This step boils down to just calling the link to each posting, extracting the description, extracting the site to apply to the job, and appending both attributes to the card to create a complete accounting of each opportunity. Some job postings have an option to apply for the job directly on the job board website. In such an instance, the application link is simply set to the job posting link itself.\n",
    "\n"
   ]
  },
  {
   "cell_type": "code",
   "execution_count": 3,
   "metadata": {},
   "outputs": [
    {
     "data": {
      "text/plain": [
       "{'title': 'Installation Technician - Level III',\n",
       " 'link': 'https://www.indeed.com/pagead/clk?mo=r&ad=-6NYlbfkN0B12G8xpRoeRLyzSGrx5gUDYJ2cuiP1A6qmzAe_HI-Ae470JDKxFdWE9_acl1_WCddFHurk7CBA2nm82RcgMz-UHbilJ1mh1Z16KAxMdJSZtafJOP7keUhtDlwBrk9tC2cBch4fnmRM761JuLEXRfogA3xAtuPWvnWVzkIQmxNVZ9uQSa5iSz-G6XZvYRj2daVbT41HEiEoYpAcEZwT1Y2WyV_jZl1ZtIY_bJ3YuGoseL3Zt2Qz25xLLAjfCvZKKXvFyR_5RH-dRxeEXTXs-GpSRY1IiQV59nhFh_ZQzxxXLEGC0WLjqzuJSnNyzS7fJuSIaJ4uTH11HSXnSUAbxirK4EKPcQlY5EKHcwt-v5p-qKnAmsRMVuViwcrU8GCUJdPqxVkrZnRu7isrUnFb7Lng98hyQk9j7l92SNK1tLea9xpejcsMsKZYqLeY_69aviHuXqgHDKCqORT_pFsDiroa&p=0&fvj=1&vjs=3',\n",
       " 'company': 'ZeroDay Technology Solutions',\n",
       " 'location': 'Albuquerque, NM',\n",
       " 'summary': ['Safety | Accountability | Customer Centric | Return on Investment | Integrity | Family | Innovative | Community Involvement | Empowerment.'],\n",
       " 'description': \"Job detailsJob TypeFull-timeNumber of hires for this role5Full Job DescriptionTo be a team member at ADB Companies you must support the company’s mission, vision and values by exhibiting the following behaviors: excellence and competence, teamwork, innovation, respect, personalization and accountability.Position Title: Level III TechnicianClassification:  Non - ExemptOur Mission: We are a customer-centric partner providing innovative solutions. The safety, well-being and career growth of our team members are the benchmarks of our success.Our Values: SACRIFICESafety | Accountability | Customer Centric | Return on Investment | Integrity | Family | Innovative | Community Involvement | EmpowermentPOSITION OVERVIEW: ZeroDay Technology Solutions is a division within ADB Companies, one of the fastest growing, turnkey, utility construction contractors in the telecom industry. ZeroDay provides a diverse set of technology services including AV, Collaboration, Connectivity, Infrastructure, MiCiv, and MSP. We recognize our PEOPLE as our greatest asset ensuring that their Safety is our number one priority. Our culture is values driven, performance-based, and team focused. We devote ourselves to delivering results for our clients and giving back to our community.Level III Technician supports the Facility Infrastructure Team of ZeroDay installing copper and fiber infrastructure. The Level III Technician possesses 3-5 years of experience in cable infrastructure installation. This position will be both technically experienced and also possess the skills needed to lead a small project team. The ability to travel 100% of the time, Nationwide, is required for this position.ROLES AND RESPONSIBILITIES: Perform Inside Plant Operations including, but no limited to, Lace cable, test/certify copper, terminate mechanical fiber, install conduit, layout cable paths, etc.Interpret and understand installation blueprints, resolve drawing issues when neededProperly mount displaysBasic understanding of bonding & grounding racksPerform the addition or removal of energized equipmentTest/Certify Copper utilizing various testing equipment and technologiesProvide assignments, technical support, and leadership to technicians on siteTroubleshoot Network issuesSUCCESS FACTORS: 100% Travel Ability NationwideA strong belief in ZERO- Being Safe 100% of the time is the expectationAlignment with company mission, vision, and valuesA high level of customer centricityStrong work ethic with an ALL IN attitudeStrong team player with the ability to adapt to diverse team membersAbility to perform in a fast paced/high volume environmentExcellent verbal and written communication skillsExceptional Critical Thinking skillsDetail Oriented- a high level of attention to detail is requiredA high level of time management, accountability, and prioritization skillsSelf-motivated, goal- oriented, and driven to accomplish department goalsAbility to be organized, problem solve, and be solution orientedProficient in Microsoft Office (Word, Excel, Outlook, Power Point)Mid- Level understanding of network infrastructure design requirementsBasic understanding of equipment port layoutsNetworking knowledge (preferably CCENT, CCNA or equivalent experience)Solid understanding of network infrastructure design requirements and end to end service development from pre-concept to operational supportCertifications in BICSI Installer 1 – Fiber & Copper & BICSI Installer 2 – Copper (preferred)WORK ENVIRONMENT: Corporate headquarters is located at 18777 US Highway 66 Pacific, MO 63069This role routinely uses standard office equipment such as laptop computers, projectors, copy/fax, and smartphonesMust be able to work in a variety of physical positions, including climbing, sitting, standing, walking and drivingMay be exposed to uncomfortable or distracting sounds or noise levels on sites of projects being managed or coordinatedWhen working on site, will be required to wear common protective of safety equipment, such as safety glasses, gloves, hearing protection, hard hats and life jacketsEXPERIENCE AND EDUCATION: 3-5 years of experience with cable installation proceduresCCENTHigh School Diploma or equivalent requiredADB Companies, Inc. is an equal opportunity employer. All candidates agree to complete a selection assessment and pre-employment drug screen.Job Type: Full-timeWork Location:On the roadCompany's website:https://www.zero-day.com/join-usCompany's Facebook page:https://www.facebook.com/adbcompaniesBenefit Conditions:Waiting period may applyWork Remotely:No\",\n",
       " 'application link': 'https://www.indeed.com/pagead/clk?mo=r&ad=-6NYlbfkN0B12G8xpRoeRLyzSGrx5gUDYJ2cuiP1A6qmzAe_HI-Ae470JDKxFdWE9_acl1_WCddFHurk7CBA2nm82RcgMz-UHbilJ1mh1Z16KAxMdJSZtafJOP7keUhtDlwBrk9tC2cBch4fnmRM761JuLEXRfogA3xAtuPWvnWVzkIQmxNVZ9uQSa5iSz-G6XZvYRj2daVbT41HEiEoYpAcEZwT1Y2WyV_jZl1ZtIY_bJ3YuGoseL3Zt2Qz25xLLAjfCvZKKXvFyR_5RH-dRxeEXTXs-GpSRY1IiQV59nhFh_ZQzxxXLEGC0WLjqzuJSnNyzS7fJuSIaJ4uTH11HSXnSUAbxirK4EKPcQlY5EKHcwt-v5p-qKnAmsRMVuViwcrU8GCUJdPqxVkrZnRu7isrUnFb7Lng98hyQk9j7l92SNK1tLea9xpejcsMsKZYqLeY_69aviHuXqgHDKCqORT_pFsDiroa&p=0&fvj=1&vjs=3'}"
      ]
     },
     "execution_count": 3,
     "metadata": {},
     "output_type": "execute_result"
    }
   ],
   "source": [
    "# -------------------- PARSE JOB POSTINGS -------------------- #\n",
    "\n",
    "from custom.indeed.parse_job_postings import parse_job_postings\n",
    "cards = parse_job_postings(parsed_cards)\n",
    "cards[0]\n"
   ]
  },
  {
   "cell_type": "markdown",
   "metadata": {},
   "source": [
    "## <a name=\"analytics\"></a> [Analytics](#toc)\n",
    "\n",
    "This program is capable of aggregating large amounts of job posting data. By processing that data, patterns in aggregate employer demand can be discovered, the jobs with the most correlation to your resume can be identified, and the greatest prospects for an application can be filtered out and returned to the user. This analytics section aims to do just that.\n",
    "\n",
    "1. [Keyword Frequencies](#keyword_frequencies)\n",
    "2. [Resume Correlations](#resume_correlations)\n",
    "3. [Filtering Prospects](#filtering_prospects)\n",
    "\n"
   ]
  },
  {
   "cell_type": "code",
   "execution_count": null,
   "metadata": {},
   "outputs": [],
   "source": []
  },
  {
   "cell_type": "code",
   "execution_count": null,
   "metadata": {},
   "outputs": [],
   "source": []
  },
  {
   "cell_type": "code",
   "execution_count": null,
   "metadata": {},
   "outputs": [],
   "source": []
  },
  {
   "cell_type": "code",
   "execution_count": null,
   "metadata": {},
   "outputs": [],
   "source": []
  },
  {
   "cell_type": "code",
   "execution_count": null,
   "metadata": {},
   "outputs": [],
   "source": []
  },
  {
   "cell_type": "code",
   "execution_count": null,
   "metadata": {},
   "outputs": [],
   "source": []
  },
  {
   "cell_type": "code",
   "execution_count": null,
   "metadata": {},
   "outputs": [],
   "source": []
  },
  {
   "cell_type": "code",
   "execution_count": null,
   "metadata": {},
   "outputs": [],
   "source": []
  },
  {
   "cell_type": "code",
   "execution_count": null,
   "metadata": {},
   "outputs": [],
   "source": []
  },
  {
   "cell_type": "code",
   "execution_count": null,
   "metadata": {},
   "outputs": [],
   "source": []
  },
  {
   "cell_type": "code",
   "execution_count": null,
   "metadata": {},
   "outputs": [],
   "source": []
  },
  {
   "cell_type": "code",
   "execution_count": null,
   "metadata": {},
   "outputs": [],
   "source": []
  },
  {
   "cell_type": "code",
   "execution_count": null,
   "metadata": {},
   "outputs": [],
   "source": []
  }
 ],
 "metadata": {
  "kernelspec": {
   "display_name": "Python 3",
   "language": "python",
   "name": "python3"
  },
  "language_info": {
   "codemirror_mode": {
    "name": "ipython",
    "version": 3
   },
   "file_extension": ".py",
   "mimetype": "text/x-python",
   "name": "python",
   "nbconvert_exporter": "python",
   "pygments_lexer": "ipython3",
   "version": "3.8.5"
  }
 },
 "nbformat": 4,
 "nbformat_minor": 4
}

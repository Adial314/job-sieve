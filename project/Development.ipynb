{
 "cells": [
  {
   "cell_type": "markdown",
   "metadata": {},
   "source": [
    "# Job Sieve\n",
    "---\n",
    "\n",
    "Development documentation for the screen scraping of multiple job boards for useful statistics, filtered high-value prospects, and correlative analytics.\n",
    "\n",
    "---\n",
    "\n",
    "## <a name=\"toc\"></a> Table of Contents\n",
    "1. [Process Job Board](#process_job_board)\n",
    "  1. [Job Listings](#job_listings)\n",
    "  2. [Job Posts](#job_posts)\n",
    "2. [Analytics](#analytics)\n",
    "  1. [Keyword Frequencies](#keyword_frequencies)\n",
    "  2. [Resume Correlations](#resume_correlations)\n",
    "  3. [Filtering Prospects](#filtering_prospects)\n",
    "\n"
   ]
  },
  {
   "cell_type": "code",
   "execution_count": 8,
   "metadata": {},
   "outputs": [],
   "source": [
    "# -------------------- LOAD DEPENDENCIES -------------------- #\n",
    "\n",
    "# Environment hard reset\n",
    "%reset -f\n",
    "\n",
    "# Standard math and data libraries\n",
    "import numpy as np\n",
    "import pandas as pd\n",
    "\n",
    "# Plotting libraries\n",
    "import matplotlib.pyplot as plt\n",
    "%matplotlib inline\n",
    "\n",
    "# Libraries for scraping\n",
    "import requests\n",
    "import urllib.request\n",
    "import time\n",
    "from bs4 import BeautifulSoup\n",
    "from urllib.request import Request, urlopen\n",
    "import lxml.html as lh\n",
    "import ssl\n",
    "\n",
    "import json\n",
    "\n",
    "# Date time for date operations\n",
    "import datetime\n",
    "\n",
    "# Levenshtein fuzzy comparisons\n",
    "from fuzzywuzzy import fuzz \n",
    "from fuzzywuzzy import process\n",
    "\n",
    "# Import string cleaning functions\n",
    "import re\n",
    "\n",
    "# Flask support\n",
    "from flask import request, jsonify\n",
    "\n",
    "# Configure paths\n",
    "from pathlib import Path\n",
    "# data_path = Path('Datasets')\n"
   ]
  },
  {
   "cell_type": "markdown",
   "metadata": {},
   "source": [
    "## <a name=\"process_job_board\"></a> [Process Job Board](#toc)\n",
    "\n",
    "Given a job board, input the desired job characteristics, form them into a query, and aggregate all job postings returned to us from that query.\n",
    "\n",
    "1. [Job Listings](#job_listings)\n",
    "2. [Job Posts](#job_posts)\n",
    "\n"
   ]
  },
  {
   "cell_type": "markdown",
   "metadata": {},
   "source": [
    "### <a name=\"job_listings\"></a> [Job Listings](#toc)\n",
    "\n",
    "When using an online job board, any query entered into the search bar returns several pages of job listings. Each listing on those pages is referred to as a card. The card is an HTML object which stores all of the relevant details that identify that card ti the user. These details include the job title, a link to the job posting itself, the company, the location, and a brief summary of the job's key features. The role of this program is to construct the query for the user, to execute the query against the job board, and to process (parse) those job cards into a Python object that can be expanded upon.\n",
    "\n",
    "After the first call, the number of pages returned by the query are extracted. The program iterates through each page and compiles the job cards for future analysis.\n",
    "\n",
    "**Future development:** <br>\n",
    "- The original results tell us the most relevant job listings (ordered typically by decending relevance) as well as the number of pages returned by the query. Using asynchronous techniques, these pages can be called simultaneously and processed by the order in which the results are returned. This technique greatly reduced the overhead expense of calling each query and waiting for the server to reply. The program can process the cards on its own time as the cards return.\n",
    "\n"
   ]
  },
  {
   "cell_type": "code",
   "execution_count": 9,
   "metadata": {},
   "outputs": [
    {
     "data": {
      "text/plain": [
       "{'title': 'Proactive Network/System Administrator',\n",
       " 'link': 'https://www.indeed.com/pagead/clk?mo=r&ad=-6NYlbfkN0CvxNjQrHGEGG9TW8zjO7tEzRAP9CfA1HQoqhnWZQgiasWbPY4MsRVzzLoi5Z2o-cVF77GkCgLii7gqA37iI8sFHdQtQK1_gkWnW3VPOkJsxVvLFmm7mn0dFMozrVyLG3JyCJQe9D0sZTyKG7AYPiFIwi1XQSt0ecmSHt0ttXsuOZhoQeyM2ehQtLj_y3URJYvMhYqqvAC_37XaOXsSdTO9_T5Kvz1Vt3Hppny8n603YLwBtfySdWBbsCLk_TjKzYVHFvxT1IKF_xLUSmkt9wvTvco0wS6IWVrD2Uw2JY1k1nptSXoWacDxIDqiPQXcGRCNjDao3TtTLUEsLEdCya8VjsYjawu7DETfi7bu2jWeF3kDoBMNogH1V8xEj6DaluPJM6AWNpl0D_EN5yVeiSVAxOV7-tJTpadDh1gsnkkv_35PPA67QaBoaABEFvNYEPKc7sIP9VwWwb5egIlLperXRt2oR9v7k-c=&p=0&fvj=1&vjs=3',\n",
       " 'company': 'Steady Networks',\n",
       " 'location': 'Albuquerque, NM 87110 (Montgomery Park area)',\n",
       " 'summary': [\"Documentation of our clients' technical environment.\",\n",
       "  \"Comprehensive knowledge of our clients' technical layout, capacity and deficiencies.\"]}"
      ]
     },
     "execution_count": 9,
     "metadata": {},
     "output_type": "execute_result"
    }
   ],
   "source": [
    "# -------------------- PARSE JOB CARDS -------------------- #\n",
    "\n",
    "keywords = [\"CCNA\"]\n",
    "location =  \"Albuquerque\"\n",
    "\n",
    "from custom.indeed.form_query import form_query\n",
    "base_query = form_query(keywords, location)\n",
    "\n",
    "# ---------- #\n",
    "\n",
    "from custom.indeed.call_query import call_query\n",
    "from custom.indeed.extract_cards import extract_cards\n",
    "from custom.indeed.parse_cards import parse_cards\n",
    "from custom.indeed.page_range import page_range\n",
    "\n",
    "page = call_query(base_query)\n",
    "_, num_pages = page_range(page)\n",
    "cards = extract_cards(page)\n",
    "\n",
    "parsed_cards = parse_cards(cards)\n",
    "for i in range(1, num_pages-1):\n",
    "    ()\n",
    "    next_page = call_query(base_query + \"&start=\" + str(10*1))\n",
    "    next_cards = extract_cards(next_page)\n",
    "    parsed_cards.extend(parse_cards(next_cards))\n",
    "\n",
    "parsed_cards[0]\n"
   ]
  },
  {
   "cell_type": "markdown",
   "metadata": {},
   "source": [
    "### <a name=\"job_posts\"></a> [Job Posts](#toc)\n",
    "\n",
    "With the cards processed, the next step is to iterate over the cards and parse each resulting job post. This information will be compiled for future analysis to determine if the job posting is worth the time it takes to formally apply for the job. This step boils down to just calling the link to each posting, extracting the description, extracting the site to apply to the job, and appending both attributes to the card to create a complete accounting of each opportunity. Some job postings have an option to apply for the job directly on the job board website. In such an instance, the application link is simply set to the job posting link itself.\n",
    "\n"
   ]
  },
  {
   "cell_type": "code",
   "execution_count": 16,
   "metadata": {},
   "outputs": [
    {
     "data": {
      "text/plain": [
       "{'title': 'Proactive Network/System Administrator',\n",
       " 'link': 'https://www.indeed.com/pagead/clk?mo=r&ad=-6NYlbfkN0CvxNjQrHGEGG9TW8zjO7tEzRAP9CfA1HQoqhnWZQgiasWbPY4MsRVzzLoi5Z2o-cVF77GkCgLii7gqA37iI8sFHdQtQK1_gkWnW3VPOkJsxVvLFmm7mn0dFMozrVyLG3JyCJQe9D0sZTyKG7AYPiFIwi1XQSt0ecmSHt0ttXsuOZhoQeyM2ehQtLj_y3URJYvMhYqqvAC_37XaOXsSdTO9_T5Kvz1Vt3Hppny8n603YLwBtfySdWBbsCLk_TjKzYVHFvxT1IKF_xLUSmkt9wvTvco0wS6IWVrD2Uw2JY1k1nptSXoWacDxIDqiPQXcGRCNjDao3TtTLUEsLEdCya8VjsYjawu7DETfi7bu2jWeF3kDoBMNogH1V8xEj6DaluPJM6AWNpl0D_EN5yVeiSVAxOV7-tJTpadDh1gsnkkv_35PPA67QaBoaABEFvNYEPKc7sIP9VwWwb5egIlLperXRt2oR9v7k-c=&p=0&fvj=1&vjs=3',\n",
       " 'company': 'Steady Networks',\n",
       " 'location': 'Albuquerque, NM 87110 (Montgomery Park area)',\n",
       " 'summary': [\"Documentation of our clients' technical environment.\",\n",
       "  \"Comprehensive knowledge of our clients' technical layout, capacity and deficiencies.\"],\n",
       " 'description': \"Job detailsSalary$60,000 - $70,000 a yearJob TypeFull-timeQualificationsExperience:Network Administration, 2 years (Required)Location:Albuquerque, NM 87110 (Preferred)Full Job DescriptionIs this your dream IT Job?We are a fast growing IT Support company in need of an experienced Network Administrator to join our team.Our Network Administrators are ambassadors of great support for our clients providing:Documentation of our clients' technical environment.Comprehensive knowledge of our clients' technical layout, capacity and deficienciesAssurance that the physical environment is current and compliant with our Best Practices.This position is largely based on working independently at client sites; therefore, excellent interpersonal communication and time management skills are critical for customer satisfaction and success. We want to hear from you if you are ready to join a fun, professional team of experts. Clients are mostly in Albuquerque and Santa Fe. You may need to spend 5-10 days per month in Santa Fe.How to apply: I am also requiring all serious applicants to take a short test the first step of the hiring process. This involves registering at the following link, uploading a resume, taking an 8 minute test followed by a 5 minute profile. The whole process should take about 15-20 minutes. Let me know if you have any questions.https://apply.wonscore.io/QU873E/Steady-NetworksEssential Duties and Responsibilities: Maintain professional client communication and client satisfaction.Provide excellent customer service.Maintain accurate and updated documentation.Develop and maintain your technical knowledge base of our clients.Perform proactive audits in order to implement Best Practices across our client base.Resolve issues that are identified during the auditBe a resource to our project team in planning and deployment of new technologies.Document policies and procedures for all of the aboveBenefits of Working at Steady Networks: Work with cutting edge technology everydayA strong focus on your industry training and certification including company paid for education and examsA team of highly motivated, extremely talented, fun and friendly engineersCompetitive salary and benefitsA place where ambition, loyalty, and exceptional performance will be noticed and rewardedA clear company vision and missionTechnical Requirements: Windows Server.Active Directory; managing Group Policy, etc.Virtualization; VMWare/HyperV.Firewalls and security devicesLayer 3 switchesNetwork Protocols; DNS, DHCP, RADIUSAdditional Requirements: Time management and attention to detail.Proven ability to set and manage client expectations.Exceptional customer service and communication skills.The ability to work effectively in a fast paced environment.Ability to document technical environments in a standardized and organized fashion.Ability to follow ordered instructions and checklists to produce standard results.Reliable transportation and valid driver’s licensePreferred Technical Experience: FirewallsBusiness Class Wireless SolutionsMicrosoft ExchangeMicrosoft SQLBackup, Disaster Recovery, and Business ContinuityRemote desktop services; Citrix/MicrosoftVPN solutionsJob Type: Full-timePay: $60,000.00 - $70,000.00 per yearCOVID-19 considerations:We are making this job mostly remote, with some, but limited onsite work needed.Experience:Network Administration: 2 years (Required)Location:Albuquerque, NM 87110 (Preferred)Company's website:www.steadynetworks.comWork Remotely:Temporarily due to COVID-19\",\n",
       " 'application link': 'https://www.indeed.com/pagead/clk?mo=r&ad=-6NYlbfkN0CvxNjQrHGEGG9TW8zjO7tEzRAP9CfA1HQoqhnWZQgiasWbPY4MsRVzzLoi5Z2o-cVF77GkCgLii7gqA37iI8sFHdQtQK1_gkWnW3VPOkJsxVvLFmm7mn0dFMozrVyLG3JyCJQe9D0sZTyKG7AYPiFIwi1XQSt0ecmSHt0ttXsuOZhoQeyM2ehQtLj_y3URJYvMhYqqvAC_37XaOXsSdTO9_T5Kvz1Vt3Hppny8n603YLwBtfySdWBbsCLk_TjKzYVHFvxT1IKF_xLUSmkt9wvTvco0wS6IWVrD2Uw2JY1k1nptSXoWacDxIDqiPQXcGRCNjDao3TtTLUEsLEdCya8VjsYjawu7DETfi7bu2jWeF3kDoBMNogH1V8xEj6DaluPJM6AWNpl0D_EN5yVeiSVAxOV7-tJTpadDh1gsnkkv_35PPA67QaBoaABEFvNYEPKc7sIP9VwWwb5egIlLperXRt2oR9v7k-c=&p=0&fvj=1&vjs=3'}"
      ]
     },
     "execution_count": 16,
     "metadata": {},
     "output_type": "execute_result"
    }
   ],
   "source": [
    "# -------------------- PARSE JOB POSTINGS -------------------- #\n",
    "\n",
    "from custom.indeed.parse_job_postings import parse_job_postings\n",
    "cards = parse_job_postings(parsed_cards)\n",
    "cards[0]\n"
   ]
  },
  {
   "cell_type": "markdown",
   "metadata": {},
   "source": [
    "## <a name=\"analytics\"></a> [Analytics](#toc)\n",
    "\n",
    "This program is capable of aggregating large amounts of job posting data. By processing that data, patterns in aggregate employer demand can be discovered, the jobs with the most correlation to your resume can be identified, and the greatest prospects for an application can be filtered out and returned to the user. This analytics section aims to do just that.\n",
    "\n",
    "1. [Keyword Frequencies](#keyword_frequencies)\n",
    "2. [Resume Correlations](#resume_correlations)\n",
    "3. [Filtering Prospects](#filtering_prospects)\n",
    "\n"
   ]
  },
  {
   "cell_type": "markdown",
   "metadata": {},
   "source": [
    "### <a name=\"keywords\"></a> [Keyword Frequencies](#toc)\n",
    "\n",
    "This analysis component seeks to answer the question: What is industry looking for in its candidates? In this sense, what we are really looking for are common keywords used amongst them. These keywords represent the terms under which an employer is more likely to consider a given candidate. Examples included \"degree\", \"bachelors\", \"masters\", \"experience\", \"X certification\", etc. There are many ways to execute this analysis.\n",
    "\n",
    "A predefined list of terms can be compiled and compared against the applications. The advantage of this approach lies in its simplicity. Without having to mine for key words, a boolean state is determined representing if the posting either has or does not have the given keyword. Unfortunately, this approach also limits the scope of the analysis to those keywords that are known by the users and cannot be used to mine for novel keywords.\n",
    "\n",
    "Another, more convoluted approach, involves comparing all job postings against each other to determine what words they have in common. The issue with this approach is that many meaningless keywords will be identified. At first, structural words like \"the\" will be identified in mass. After being filtered out, the next issue will be in filtering out contextually-dependent and insigificant words like \"application\" and \"responsibilities\". This filtering process will take up more time than any other component of this project. For this reason, the predefined approach will be used.\n",
    "\n",
    "My particular interest lies in determining what computerscience/cybersecurity certifications are most in demand by employers. Consequently, the predetermined keyword approach is best suited. Compilations of certifications like [this one](https://www.webopedia.com/reference/computer-certifications/) will serve nicely for seeding the target keywords list.\n",
    "\n"
   ]
  },
  {
   "cell_type": "code",
   "execution_count": 18,
   "metadata": {},
   "outputs": [
    {
     "data": {
      "text/plain": [
       "{'entries': [{'name': 'CompTia A+',\n",
       "   'targets': ['A+', 'A +', 'A Plus'],\n",
       "   'count': 124},\n",
       "  {'name': 'CompTia Network+',\n",
       "   'targets': ['Network+', 'Network +', 'Network Plus'],\n",
       "   'count': 202},\n",
       "  {'name': 'CompTia Security+',\n",
       "   'targets': ['Security+', 'Security +', 'Security Plus'],\n",
       "   'count': 223},\n",
       "  {'name': 'CompTia Cloud+',\n",
       "   'targets': ['Cloud+', 'Cloud +', 'Cloud Plus'],\n",
       "   'count': 0},\n",
       "  {'name': 'CompTia Linux+',\n",
       "   'targets': ['Linux+', 'Linux +', 'Linux Plus'],\n",
       "   'count': 0},\n",
       "  {'name': 'CompTia Server+',\n",
       "   'targets': ['Server+', 'Server +', 'Server Plus'],\n",
       "   'count': 0},\n",
       "  {'name': 'CompTia CySA+',\n",
       "   'targets': ['Cybersecurity Analyst', 'CySA', 'CSA'],\n",
       "   'count': 52},\n",
       "  {'name': 'CompTia CASP+',\n",
       "   'targets': ['CASP+', 'CASP +', 'CASP Plus'],\n",
       "   'count': 0},\n",
       "  {'name': 'CompTia PenTest+',\n",
       "   'targets': ['PenTest+', 'PenTest +', 'PenTest Plus'],\n",
       "   'count': 0},\n",
       "  {'name': 'CompTia Project+',\n",
       "   'targets': ['Project+', 'Project +', 'Project Plus'],\n",
       "   'count': 0},\n",
       "  {'name': 'AWS Certification',\n",
       "   'targets': ['Amazon Web Services Certification'],\n",
       "   'count': 0},\n",
       "  {'name': 'AWS Web Services',\n",
       "   'targets': ['Amazon Web Services Certification'],\n",
       "   'count': 0},\n",
       "  {'name': 'ISFCE Certified Computer Examiner',\n",
       "   'targets': ['Certified Computer Examiner', 'CCE'],\n",
       "   'count': 0},\n",
       "  {'name': 'ISACA CISA',\n",
       "   'targets': ['Certified Information Systems Auditor', 'CISA'],\n",
       "   'count': 2},\n",
       "  {'name': 'ISACA CISM',\n",
       "   'targets': ['Certified Information Security Manager', 'CISM'],\n",
       "   'count': 75},\n",
       "  {'name': 'ISC2 CISSP',\n",
       "   'targets': ['Certified Information Systems Security Professional', 'CISSP'],\n",
       "   'count': 149},\n",
       "  {'name': 'IEEE Certified Software Development Professional',\n",
       "   'targets': ['Certified Software Developer Program', 'CSDP'],\n",
       "   'count': 0},\n",
       "  {'name': 'ISTQB CSTE',\n",
       "   'targets': ['Certified Software Tester', 'CSTE'],\n",
       "   'count': 0},\n",
       "  {'name': 'Cisco CCT',\n",
       "   'targets': ['Cisco Certified Technicians', 'CCT'],\n",
       "   'count': 71},\n",
       "  {'name': 'Cisco CCNT',\n",
       "   'targets': ['Cisco Certified Entry Networking Technician', 'CCNT'],\n",
       "   'count': 0},\n",
       "  {'name': 'Cisco CCNA',\n",
       "   'targets': ['Cisco Certified Network Associate', 'CCNA'],\n",
       "   'count': 511},\n",
       "  {'name': 'Cisco CCNP',\n",
       "   'targets': ['Cisco Certified Network Professional Enterprise', 'CCNP'],\n",
       "   'count': 114},\n",
       "  {'name': 'Cisco CCAr',\n",
       "   'targets': ['Cisco Certified Architect', 'CCAr'],\n",
       "   'count': 0},\n",
       "  {'name': 'Microsoft MTA',\n",
       "   'targets': ['Microsoft Technology Associate', 'MTA'],\n",
       "   'count': 0},\n",
       "  {'name': 'Microsoft MCSA',\n",
       "   'targets': ['Microsoft Certified Solutions Associate', 'MCSA'],\n",
       "   'count': 44},\n",
       "  {'name': 'Microsoft MCSE',\n",
       "   'targets': ['Microsoft Certified Solutions Expert', 'MCSE'],\n",
       "   'count': 97},\n",
       "  {'name': 'RHEL Certified System Administrator',\n",
       "   'targets': ['Red Hat Certified System Administrator', 'RHCSA'],\n",
       "   'count': 0},\n",
       "  {'name': 'Scrum', 'targets': ['Scrum Certification', 'Scrum'], 'count': 0}]}"
      ]
     },
     "execution_count": 18,
     "metadata": {},
     "output_type": "execute_result"
    }
   ],
   "source": [
    "# -------------------- STUDY KEYWORDS -------------------- #\n",
    "\n",
    "# Load keywords\n",
    "with open(\"keywords/keywords.json\") as f:\n",
    "    keywords = json.load(f)\n",
    "\n",
    "# Study jobpostings\n",
    "for card in cards:\n",
    "    for certification in keywords[\"entries\"]:\n",
    "        for target in certification[\"targets\"]:\n",
    "            if target in card[\"description\"]:\n",
    "                certification[\"count\"] += 1\n",
    "            else:\n",
    "                continue\n",
    "\n",
    "keywords\n"
   ]
  },
  {
   "cell_type": "code",
   "execution_count": null,
   "metadata": {},
   "outputs": [],
   "source": []
  },
  {
   "cell_type": "code",
   "execution_count": null,
   "metadata": {},
   "outputs": [],
   "source": []
  },
  {
   "cell_type": "code",
   "execution_count": null,
   "metadata": {},
   "outputs": [],
   "source": []
  },
  {
   "cell_type": "code",
   "execution_count": null,
   "metadata": {},
   "outputs": [],
   "source": []
  },
  {
   "cell_type": "code",
   "execution_count": null,
   "metadata": {},
   "outputs": [],
   "source": []
  },
  {
   "cell_type": "code",
   "execution_count": null,
   "metadata": {},
   "outputs": [],
   "source": []
  },
  {
   "cell_type": "code",
   "execution_count": null,
   "metadata": {},
   "outputs": [],
   "source": []
  },
  {
   "cell_type": "code",
   "execution_count": null,
   "metadata": {},
   "outputs": [],
   "source": []
  },
  {
   "cell_type": "code",
   "execution_count": null,
   "metadata": {},
   "outputs": [],
   "source": []
  },
  {
   "cell_type": "code",
   "execution_count": null,
   "metadata": {},
   "outputs": [],
   "source": []
  }
 ],
 "metadata": {
  "kernelspec": {
   "display_name": "Python 3",
   "language": "python",
   "name": "python3"
  },
  "language_info": {
   "codemirror_mode": {
    "name": "ipython",
    "version": 3
   },
   "file_extension": ".py",
   "mimetype": "text/x-python",
   "name": "python",
   "nbconvert_exporter": "python",
   "pygments_lexer": "ipython3",
   "version": "3.8.5"
  }
 },
 "nbformat": 4,
 "nbformat_minor": 4
}
